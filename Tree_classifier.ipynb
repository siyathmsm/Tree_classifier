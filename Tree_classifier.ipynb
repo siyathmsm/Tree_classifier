{
 "cells": [
  {
   "cell_type": "code",
   "execution_count": 1,
   "id": "a485b0ec-410c-4349-a5c0-3838e2625700",
   "metadata": {},
   "outputs": [
    {
     "name": "stdout",
     "output_type": "stream",
     "text": [
      "Epoch 1/30\n",
      "1/1 [==============================] - 1s 600ms/step - loss: 104.4852 - accuracy: 0.0000e+00 - val_loss: 46.7975 - val_accuracy: 0.0000e+00\n",
      "Epoch 2/30\n",
      "1/1 [==============================] - 0s 45ms/step - loss: 44.6631 - accuracy: 0.0000e+00 - val_loss: 33.1482 - val_accuracy: 0.0857\n",
      "Epoch 3/30\n",
      "1/1 [==============================] - 0s 34ms/step - loss: 30.7509 - accuracy: 0.2000 - val_loss: 25.0230 - val_accuracy: 0.2571\n",
      "Epoch 4/30\n",
      "1/1 [==============================] - 0s 32ms/step - loss: 23.8890 - accuracy: 0.3000 - val_loss: 12.3693 - val_accuracy: 0.2286\n",
      "Epoch 5/30\n",
      "1/1 [==============================] - 0s 32ms/step - loss: 11.9424 - accuracy: 0.3000 - val_loss: 18.1905 - val_accuracy: 0.3429\n",
      "Epoch 6/30\n",
      "1/1 [==============================] - 0s 34ms/step - loss: 19.8267 - accuracy: 0.3000 - val_loss: 16.5088 - val_accuracy: 0.3429\n",
      "Epoch 7/30\n",
      "1/1 [==============================] - 0s 31ms/step - loss: 18.3803 - accuracy: 0.3000 - val_loss: 8.5638 - val_accuracy: 0.4429\n",
      "Epoch 8/30\n",
      "1/1 [==============================] - 0s 32ms/step - loss: 8.9797 - accuracy: 0.4000 - val_loss: 10.4656 - val_accuracy: 0.3286\n",
      "Epoch 9/30\n",
      "1/1 [==============================] - 0s 34ms/step - loss: 8.7358 - accuracy: 0.3500 - val_loss: 11.1176 - val_accuracy: 0.3286\n",
      "Epoch 10/30\n",
      "1/1 [==============================] - 0s 39ms/step - loss: 9.1318 - accuracy: 0.3500 - val_loss: 12.0852 - val_accuracy: 0.3286\n",
      "Epoch 11/30\n",
      "1/1 [==============================] - 0s 32ms/step - loss: 10.5379 - accuracy: 0.4000 - val_loss: 13.4491 - val_accuracy: 0.3143\n",
      "Epoch 12/30\n",
      "1/1 [==============================] - 0s 32ms/step - loss: 12.0883 - accuracy: 0.3500 - val_loss: 11.2730 - val_accuracy: 0.3143\n",
      "Epoch 13/30\n",
      "1/1 [==============================] - 0s 32ms/step - loss: 10.1438 - accuracy: 0.3500 - val_loss: 6.3553 - val_accuracy: 0.3286\n",
      "Epoch 14/30\n",
      "1/1 [==============================] - 0s 32ms/step - loss: 5.4513 - accuracy: 0.3000 - val_loss: 2.1482 - val_accuracy: 0.5714\n",
      "Epoch 15/30\n",
      "1/1 [==============================] - 0s 31ms/step - loss: 1.6687 - accuracy: 0.5500 - val_loss: 4.7317 - val_accuracy: 0.5000\n",
      "Epoch 16/30\n",
      "1/1 [==============================] - 0s 34ms/step - loss: 5.2268 - accuracy: 0.5000 - val_loss: 5.3656 - val_accuracy: 0.5143\n",
      "Epoch 17/30\n",
      "1/1 [==============================] - 0s 30ms/step - loss: 5.8527 - accuracy: 0.5000 - val_loss: 4.7827 - val_accuracy: 0.5571\n",
      "Epoch 18/30\n",
      "1/1 [==============================] - 0s 31ms/step - loss: 4.4188 - accuracy: 0.6000 - val_loss: 4.2402 - val_accuracy: 0.4714\n",
      "Epoch 19/30\n",
      "1/1 [==============================] - 0s 32ms/step - loss: 3.2867 - accuracy: 0.5500 - val_loss: 3.4958 - val_accuracy: 0.3143\n",
      "Epoch 20/30\n",
      "1/1 [==============================] - 0s 33ms/step - loss: 2.2854 - accuracy: 0.4500 - val_loss: 3.8926 - val_accuracy: 0.3429\n",
      "Epoch 21/30\n",
      "1/1 [==============================] - 0s 36ms/step - loss: 3.1328 - accuracy: 0.4500 - val_loss: 3.3334 - val_accuracy: 0.3286\n",
      "Epoch 22/30\n",
      "1/1 [==============================] - 0s 34ms/step - loss: 2.7659 - accuracy: 0.3000 - val_loss: 1.9903 - val_accuracy: 0.5857\n",
      "Epoch 23/30\n",
      "1/1 [==============================] - 0s 39ms/step - loss: 1.7473 - accuracy: 0.5000 - val_loss: 2.5474 - val_accuracy: 0.5143\n",
      "Epoch 24/30\n",
      "1/1 [==============================] - 0s 33ms/step - loss: 2.8435 - accuracy: 0.4500 - val_loss: 2.1142 - val_accuracy: 0.5571\n",
      "Epoch 25/30\n",
      "1/1 [==============================] - 0s 33ms/step - loss: 2.2391 - accuracy: 0.4500 - val_loss: 1.5495 - val_accuracy: 0.5286\n",
      "Epoch 26/30\n",
      "1/1 [==============================] - 0s 31ms/step - loss: 0.9578 - accuracy: 0.7000 - val_loss: 2.7717 - val_accuracy: 0.3143\n",
      "Epoch 27/30\n",
      "1/1 [==============================] - 0s 34ms/step - loss: 1.7990 - accuracy: 0.4000 - val_loss: 3.3642 - val_accuracy: 0.3286\n",
      "Epoch 28/30\n",
      "1/1 [==============================] - 0s 32ms/step - loss: 2.2309 - accuracy: 0.4500 - val_loss: 2.5726 - val_accuracy: 0.3571\n",
      "Epoch 29/30\n",
      "1/1 [==============================] - 0s 32ms/step - loss: 1.5430 - accuracy: 0.4000 - val_loss: 1.7137 - val_accuracy: 0.5571\n",
      "Epoch 30/30\n",
      "1/1 [==============================] - 0s 32ms/step - loss: 1.0410 - accuracy: 0.6000 - val_loss: 1.6168 - val_accuracy: 0.5571\n"
     ]
    }
   ],
   "source": [
    "import pandas as pd\n",
    "import numpy as np\n",
    "from keras.utils.np_utils import to_categorical\n",
    "from keras import models, layers\n",
    "from sklearn.model_selection import train_test_split\n",
    "from keras.optimizers import Adam\n",
    "\n",
    "# Load data from CSV (replace with your actual file path)\n",
    "data = pd.read_csv(r\"C:\\Users\\SIYATH MSM\\OneDrive\\Desktop\\AI\\datasets.csv\")\n",
    "\n",
    "# Extract samples and features\n",
    "samples = data[\"species\"]\n",
    "features = data[[\"area\", \"angle\", \"ratio\"]]\n",
    "\n",
    "x_train, x_test, y_train, y_test = train_test_split(features, samples, test_size=0.3, random_state=42)\n",
    "\n",
    "# Vectorize features\n",
    "def vectorize_features(features, dimension=3):\n",
    "    results = np.zeros((len(features), dimension))\n",
    "    for i, row in enumerate(features.values):\n",
    "        for feature_index in range(dimension):  # Assume feature indices are 0, 1, 2\n",
    "            results[i, feature_index] = row[feature_index]\n",
    "    return results\n",
    "\n",
    "x_train = vectorize_features(features, dimension=3)\n",
    "\n",
    "# Prepare labels (assuming labels are already encoded)\n",
    "y_train = np.array(data[\"species\"])\n",
    "\n",
    "y_test_encoded = to_categorical(y_test, num_classes=4)\n",
    "\n",
    "# Define and compile the model\n",
    "model = models.Sequential()\n",
    "model.add(layers.Dense(32, activation='relu', input_shape=(3,)))\n",
    "model.add(layers.Dense(16, activation='relu'))\n",
    "model.add(layers.Dense(8, activation='softmax'))\n",
    "model.compile(optimizer=Adam(learning_rate=0.01),\n",
    "              loss='sparse_categorical_crossentropy',\n",
    "              metrics=['accuracy'])\n",
    "\n",
    "# Split data into training and validation sets\n",
    "x_val = x_train[:70]\n",
    "partial_x_train = x_train[70:]\n",
    "y_val = y_train[:70]\n",
    "partial_y_train = y_train[70:]\n",
    "\n",
    "# Train the model\n",
    "history = model.fit(partial_x_train,\n",
    "                    partial_y_train,\n",
    "                    epochs=30,\n",
    "                    batch_size=512,\n",
    "                    validation_data=(x_val, y_val))"
   ]
  },
  {
   "cell_type": "code",
   "execution_count": 2,
   "id": "d9a1bef4-b779-4c77-81ee-737eb912c2ae",
   "metadata": {},
   "outputs": [
    {
     "name": "stdout",
     "output_type": "stream",
     "text": [
      "1/1 [==============================] - 0s 92ms/step\n"
     ]
    },
    {
     "data": {
      "text/plain": [
       "(8,)"
      ]
     },
     "execution_count": 2,
     "metadata": {},
     "output_type": "execute_result"
    }
   ],
   "source": [
    "predictions = model.predict(x_test)\n",
    "predictions[0].shape"
   ]
  },
  {
   "cell_type": "code",
   "execution_count": 3,
   "id": "13788a95-2da1-4924-8476-1253ba02c6be",
   "metadata": {},
   "outputs": [
    {
     "data": {
      "text/plain": [
       "0.99999994"
      ]
     },
     "execution_count": 3,
     "metadata": {},
     "output_type": "execute_result"
    }
   ],
   "source": [
    "np.sum(predictions[0])"
   ]
  },
  {
   "cell_type": "code",
   "execution_count": 4,
   "id": "4eee8b2b-c8e7-4436-a368-d7a184388a99",
   "metadata": {},
   "outputs": [
    {
     "data": {
      "text/plain": [
       "2"
      ]
     },
     "execution_count": 4,
     "metadata": {},
     "output_type": "execute_result"
    }
   ],
   "source": [
    "np.argmax(predictions[0])"
   ]
  },
  {
   "cell_type": "code",
   "execution_count": 5,
   "id": "5c63cdfc-05d2-4e24-a9d8-19f2ed7520cb",
   "metadata": {},
   "outputs": [
    {
     "data": {
      "image/png": "[encoded data removed]",
      "text/plain": [
       "<Figure size 640x480 with 1 Axes>"
      ]
     },
     "metadata": {},
     "output_type": "display_data"
    }
   ],
   "source": [
    "import matplotlib.pyplot as plt\n",
    "\n",
    "# Assuming you have the correct history_dict with 'val_loss' values\n",
    "history_dict = history.history\n",
    "loss_values = history_dict['loss']\n",
    "val_loss_values = history_dict['val_loss']\n",
    "epochs = range(1, len(loss_values) + 1)  # Adjust the range based on the actual number of epochs\n",
    "\n",
    "plt.plot(epochs, loss_values, 'bo', label='Training loss')\n",
    "plt.plot(epochs, val_loss_values, 'b', label='Validation loss')\n",
    "plt.title('Training and validation loss')\n",
    "plt.xlabel('Epochs')\n",
    "plt.ylabel('Loss')\n",
    "plt.legend()\n",
    "plt.show()\n"
   ]
  },
  {
   "cell_type": "code",
   "execution_count": 6,
   "id": "c5241c3a-64d3-4f66-98d3-e805f4f06bea",
   "metadata": {},
   "outputs": [
    {
     "data": {
      "image/png": "[encoded data removed]",
      "text/plain": [
       "<Figure size 640x480 with 1 Axes>"
      ]
     },
     "metadata": {},
     "output_type": "display_data"
    }
   ],
   "source": [
    "plt.clf()\n",
    "acc_values = history_dict['accuracy']\n",
    "val_acc_values = history_dict['val_accuracy']\n",
    "plt.plot(epochs, acc_values, 'bo', label='Training acc')\n",
    "plt.plot(epochs, val_acc_values, 'b', label='Validation acc')\n",
    "plt.title('Training and validation accuracy')\n",
    "plt.xlabel('Epochs')\n",
    "plt.ylabel('Loss')\n",
    "plt.legend()\n",
    "plt.show()"
   ]
  },
  {
   "cell_type": "code",
   "execution_count": 7,
   "id": "7755d8ed-27ff-4c03-8eb6-5897daf8aa85",
   "metadata": {},
   "outputs": [
    {
     "name": "stdout",
     "output_type": "stream",
     "text": [
      "Epoch 1/30\n",
      "1/1 [==============================] - ETA: 0s - loss: 52.1875 - accuracy: 0.3500\n",
      "Epoch 1: val_loss improved from inf to 35.34657, saving model to best_model.h5\n",
      "1/1 [==============================] - 1s 660ms/step - loss: 52.1875 - accuracy: 0.3500 - val_loss: 35.3466 - val_accuracy: 0.3000\n",
      "Epoch 2/30\n",
      "1/1 [==============================] - ETA: 0s - loss: 33.6149 - accuracy: 0.3500\n",
      "Epoch 2: val_loss improved from 35.34657 to 23.77882, saving model to best_model.h5\n",
      "1/1 [==============================] - 0s 58ms/step - loss: 33.6149 - accuracy: 0.3500 - val_loss: 23.7788 - val_accuracy: 0.3286\n",
      "Epoch 3/30\n",
      "1/1 [==============================] - ETA: 0s - loss: 22.9913 - accuracy: 0.3500\n",
      "Epoch 3: val_loss improved from 23.77882 to 6.05318, saving model to best_model.h5\n",
      "1/1 [==============================] - 0s 53ms/step - loss: 22.9913 - accuracy: 0.3500 - val_loss: 6.0532 - val_accuracy: 0.3429\n",
      "Epoch 4/30\n",
      "1/1 [==============================] - ETA: 0s - loss: 6.4789 - accuracy: 0.3000\n",
      "Epoch 4: val_loss did not improve from 6.05318\n",
      "1/1 [==============================] - 0s 34ms/step - loss: 6.4789 - accuracy: 0.3000 - val_loss: 10.1019 - val_accuracy: 0.3429\n",
      "Epoch 5/30\n",
      "1/1 [==============================] - ETA: 0s - loss: 11.2199 - accuracy: 0.3000\n",
      "Epoch 5: val_loss improved from 6.05318 to 4.76684, saving model to best_model.h5\n",
      "1/1 [==============================] - 0s 57ms/step - loss: 11.2199 - accuracy: 0.3000 - val_loss: 4.7668 - val_accuracy: 0.4429\n",
      "Epoch 6/30\n",
      "1/1 [==============================] - ETA: 0s - loss: 5.1184 - accuracy: 0.3000\n",
      "Epoch 6: val_loss did not improve from 4.76684\n",
      "1/1 [==============================] - 0s 35ms/step - loss: 5.1184 - accuracy: 0.3000 - val_loss: 6.5796 - val_accuracy: 0.2571\n",
      "Epoch 7/30\n",
      "1/1 [==============================] - ETA: 0s - loss: 6.0768 - accuracy: 0.4000\n",
      "Epoch 7: val_loss did not improve from 4.76684\n",
      "1/1 [==============================] - 0s 30ms/step - loss: 6.0768 - accuracy: 0.4000 - val_loss: 9.5105 - val_accuracy: 0.3286\n",
      "Epoch 8/30\n",
      "1/1 [==============================] - ETA: 0s - loss: 8.2921 - accuracy: 0.4000Restoring model weights from the end of the best epoch: 5.\n",
      "\n",
      "Epoch 8: val_loss did not improve from 4.76684\n",
      "1/1 [==============================] - 0s 49ms/step - loss: 8.2921 - accuracy: 0.4000 - val_loss: 10.7622 - val_accuracy: 0.3286\n",
      "Epoch 8: early stopping\n"
     ]
    }
   ],
   "source": [
    "import pandas as pd\n",
    "import numpy as np\n",
    "from keras.utils.np_utils import to_categorical\n",
    "from keras import models, layers\n",
    "from sklearn.model_selection import train_test_split\n",
    "from keras.optimizers import Adam\n",
    "from keras.callbacks import EarlyStopping, ModelCheckpoint  # Add these imports\n",
    "\n",
    "# Load data from CSV (replace with your actual file path)\n",
    "data = pd.read_csv(r\"C:\\Users\\SIYATH MSM\\OneDrive\\Desktop\\AI\\datasets.csv\")\n",
    "\n",
    "# Extract samples and features\n",
    "samples = data[\"species\"]\n",
    "features = data[[\"area\", \"angle\", \"ratio\"]]\n",
    "\n",
    "x_train, x_test, y_train, y_test = train_test_split(features, samples, test_size=0.3, random_state=42)\n",
    "\n",
    "# Vectorize features\n",
    "def vectorize_features(features, dimension=3):\n",
    "    results = np.zeros((len(features), dimension))\n",
    "    for i, row in enumerate(features.values):\n",
    "        for feature_index in range(dimension):  # Assume feature indices are 0, 1, 2\n",
    "            results[i, feature_index] = row[feature_index]\n",
    "    return results\n",
    "\n",
    "x_train = vectorize_features(features, dimension=3)\n",
    "\n",
    "# Prepare labels (assuming labels are already encoded)\n",
    "y_train = np.array(data[\"species\"])\n",
    "\n",
    "y_test_encoded = to_categorical(y_test, num_classes=4)\n",
    "\n",
    "# Define and compile the model\n",
    "model = models.Sequential()\n",
    "model.add(layers.Dense(32, activation='relu', input_shape=(3,)))\n",
    "model.add(layers.Dense(16, activation='relu'))\n",
    "model.add(layers.Dense(4, activation='softmax'))\n",
    "model.compile(optimizer=Adam(learning_rate=0.01),\n",
    "              loss='sparse_categorical_crossentropy',\n",
    "              metrics=['accuracy'])\n",
    "\n",
    "# Define the early stopping and model checkpoint callbacks\n",
    "early_stopping = EarlyStopping(monitor='val_loss',\n",
    "                               patience=3,\n",
    "                               verbose=1,\n",
    "                               restore_best_weights=True)\n",
    "\n",
    "model_checkpoint = ModelCheckpoint(filepath='best_model.h5',\n",
    "                                   monitor='val_loss',\n",
    "                                   save_best_only=True,\n",
    "                                   verbose=1)\n",
    "\n",
    "# Split data into training and validation sets\n",
    "x_val = x_train[:70]\n",
    "partial_x_train = x_train[70:]\n",
    "y_val = y_train[:70]\n",
    "partial_y_train = y_train[70:]\n",
    "\n",
    "# Fit the model with the callbacks\n",
    "history = model.fit(partial_x_train,\n",
    "                    partial_y_train,\n",
    "                    epochs=30,\n",
    "                    batch_size=256,\n",
    "                    validation_data=(x_val, y_val),\n",
    "                    callbacks=[early_stopping, model_checkpoint])\n"
   ]
  },
  {
   "cell_type": "code",
   "execution_count": 8,
   "id": "373da6ae-a44e-4e8a-9099-6e6a0a1f2999",
   "metadata": {},
   "outputs": [],
   "source": [
    "from keras.models import load_model\n",
    "\n",
    "# Load the saved model\n",
    "model = load_model('best_model.h5')"
   ]
  },
  {
   "cell_type": "code",
   "execution_count": 9,
   "id": "b4aef592-8fa4-431c-9c31-16a8cf6c6236",
   "metadata": {},
   "outputs": [
    {
     "name": "stdout",
     "output_type": "stream",
     "text": [
      "1/1 [==============================] - 0s 56ms/step\n"
     ]
    }
   ],
   "source": [
    "# Predict the probabilities for the test samples\n",
    "predictions = model.predict(x_test[:10])"
   ]
  },
  {
   "cell_type": "code",
   "execution_count": 10,
   "id": "8d45df3e-349c-432c-9761-a1a53b78ae6b",
   "metadata": {},
   "outputs": [],
   "source": [
    "# Define class names (assuming you have a mapping or know the class names)\n",
    "class_names = ['gliricidia sepium', 'phyllanthus acidus', 'magnolia virginiana']"
   ]
  },
  {
   "cell_type": "code",
   "execution_count": 11,
   "id": "415ff78b-7e14-4e00-91de-e76328d905ea",
   "metadata": {},
   "outputs": [
    {
     "name": "stdout",
     "output_type": "stream",
     "text": [
      "3\n"
     ]
    }
   ],
   "source": [
    "print (len(class_names))"
   ]
  },
  {
   "cell_type": "code",
   "execution_count": 12,
   "id": "22d5575d-cfe6-4af7-b353-1ddafcb1766f",
   "metadata": {},
   "outputs": [
    {
     "name": "stdout",
     "output_type": "stream",
     "text": [
      "Sample 1: Max Probability = 0.5902, Class Label = 3, Class Name = magnolia virginiana\n",
      "Sample 2: Max Probability = 0.9996, Class Label = 2, Class Name = phyllanthus acidus\n",
      "Sample 3: Max Probability = 0.8849, Class Label = 3, Class Name = magnolia virginiana\n",
      "Sample 4: Max Probability = 0.9995, Class Label = 2, Class Name = phyllanthus acidus\n",
      "Sample 5: Max Probability = 0.9977, Class Label = 2, Class Name = phyllanthus acidus\n",
      "Sample 6: Max Probability = 0.8020, Class Label = 3, Class Name = magnolia virginiana\n",
      "Sample 7: Max Probability = 0.9996, Class Label = 2, Class Name = phyllanthus acidus\n",
      "Sample 8: Max Probability = 0.9905, Class Label = 3, Class Name = magnolia virginiana\n",
      "Sample 9: Max Probability = 0.9887, Class Label = 2, Class Name = phyllanthus acidus\n",
      "Sample 10: Max Probability = 0.9997, Class Label = 2, Class Name = phyllanthus acidus\n"
     ]
    }
   ],
   "source": [
    "# Print the predicted class, probability, and class name for each of the first 10 samples\n",
    "for i, prediction in enumerate(predictions):\n",
    "    class_index = np.argmax(prediction)  # Find the index of the max probability\n",
    "    max_probability = np.max(prediction)  # Find the max probability value\n",
    "    class_label = class_index + 1  # Adjust class index if labels are 1-based\n",
    "    class_name = class_names[class_index]  # Get the class name using the index\n",
    "    print(f\"Sample {i+1}: Max Probability = {max_probability:.4f}, Class Label = {class_label}, Class Name = {class_name}\")"
   ]
  },
  {
   "cell_type": "code",
   "execution_count": 13,
   "id": "f5a1efee-ed78-405a-a7fa-5204654ac854",
   "metadata": {},
   "outputs": [
    {
     "name": "stdout",
     "output_type": "stream",
     "text": [
      "Sample 1: Max Probability = 0.5902, Class Label = 3, Class Name = magnolia virginiana\n",
      "Sample 2: Max Probability = 0.9996, Class Label = 2, Class Name = phyllanthus acidus\n",
      "Sample 3: Max Probability = 0.8849, Class Label = 3, Class Name = magnolia virginiana\n",
      "Sample 4: Max Probability = 0.9995, Class Label = 2, Class Name = phyllanthus acidus\n",
      "Sample 5: Max Probability = 0.9977, Class Label = 2, Class Name = phyllanthus acidus\n",
      "Sample 6: Max Probability = 0.8020, Class Label = 3, Class Name = magnolia virginiana\n",
      "Sample 7: Max Probability = 0.9996, Class Label = 2, Class Name = phyllanthus acidus\n",
      "Sample 8: Max Probability = 0.9905, Class Label = 3, Class Name = magnolia virginiana\n",
      "Sample 9: Max Probability = 0.9887, Class Label = 2, Class Name = phyllanthus acidus\n",
      "Sample 10: Max Probability = 0.9997, Class Label = 2, Class Name = phyllanthus acidus\n"
     ]
    }
   ],
   "source": [
    "# Print the predicted classes with the maximum probability for each of the first 10 samples\n",
    "for i, prediction in enumerate(predictions):\n",
    "    max_probability = np.max(prediction)  # Find the max probability value\n",
    "    # Find all indexes with the max probability\n",
    "    max_indexes = np.flatnonzero(prediction == max_probability)\n",
    "    # Loop through all max indexes to print each one\n",
    "    for class_index in max_indexes:\n",
    "        class_label = class_index + 1  # Adjust class index if labels are 1-based\n",
    "        class_name = class_names[class_index]  # Get the class name using the index\n",
    "        print(f\"Sample {i+1}: Max Probability = {max_probability:.4f}, Class Label = {class_label}, Class Name = {class_name}\")"
   ]
  },
  {
   "cell_type": "code",
   "execution_count": 14,
   "id": "f35458c7-2a2d-46e9-be0f-3a3e12381110",
   "metadata": {},
   "outputs": [],
   "source": [
    "# Function to load the model and predict a specific sample's class\n",
    "def predict_sample_class(sample_index):\n",
    "\n",
    "    # Ensure the sample index is within the bounds of the test dataset\n",
    "    if sample_index < 0 or sample_index >= len(x_test):\n",
    "        return \"Invalid sample index. Please provide a valid index within the range of the dataset.\"\n",
    "    \n",
    "    print ('Range : ', sample_index, ':', sample_index+1)\n",
    "\n",
    "    # Predict the probabilities for the specified sample\n",
    "    prediction = model.predict(x_test[sample_index:sample_index+1])\n",
    "\n",
    "    # Find the index of the max probability\n",
    "    class_index = np.argmax(prediction)\n",
    "    print (class_index)\n",
    "\n",
    "    # Find the max probability value\n",
    "    max_probability = np.max(prediction)\n",
    "\n",
    "    # Adjust class index if labels are 1-based\n",
    "    class_label = class_index + 1\n",
    "\n",
    "    # Get the class name using the index\n",
    "    class_name = class_names[class_index]\n",
    "\n",
    "    # Print the output\n",
    "    return f\"Sample {sample_index}: Max Probability = {max_probability:.4f}, Class Label = {class_label}, Class Name = {class_name}\""
   ]
  },
  {
   "cell_type": "code",
   "execution_count": 15,
   "id": "52aa88a9-8b2c-41d6-8768-ac1b8afe9deb",
   "metadata": {},
   "outputs": [
    {
     "name": "stdout",
     "output_type": "stream",
     "text": [
      "Range :  3 : 4\n",
      "1/1 [==============================] - 0s 25ms/step\n",
      "1\n",
      "Sample 3: Max Probability = 0.9995, Class Label = 2, Class Name = phyllanthus acidus\n"
     ]
    }
   ],
   "source": [
    "# Example usage\n",
    "sample_index = 3  # Change this to the index of the sample you want to analyze\n",
    "output = predict_sample_class(sample_index)\n",
    "print(output)"
   ]
  },
  {
   "cell_type": "code",
   "execution_count": null,
   "id": "bb822cc8-dfad-47a8-aee5-a469d9035520",
   "metadata": {},
   "outputs": [],
   "source": []
  }
 ],
 "metadata": {
  "kernelspec": {
   "display_name": "Python 3 (ipykernel)",
   "language": "python",
   "name": "python3"
  },
  "language_info": {
   "codemirror_mode": {
    "name": "ipython",
    "version": 3
   },
   "file_extension": ".py",
   "mimetype": "text/x-python",
   "name": "python",
   "nbconvert_exporter": "python",
   "pygments_lexer": "ipython3",
   "version": "3.9.18"
  }
 },
 "nbformat": 4,
 "nbformat_minor": 5
}
